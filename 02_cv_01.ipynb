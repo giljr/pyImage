{
 "cells": [
  {
   "cell_type": "markdown",
   "id": "20e11f25",
   "metadata": {},
   "source": [
    "# Image BASIC w/ OpenCV"
   ]
  },
  {
   "cell_type": "markdown",
   "id": "c11710e6",
   "metadata": {},
   "source": [
    "## OpenCV library already contains many popular algorithms for computer vision, including object detection and tracking algorithms that are already built into the library.\n",
    "\n",
    "### To guarantee that OpenCV is up and running, Go to the Anaconda Prompt window, CTRL + C and type:\n",
    "\n",
    "conda install -c menpo opencv"
   ]
  },
  {
   "cell_type": "markdown",
   "id": "3cb02725",
   "metadata": {},
   "source": [
    "# Lets get your feet wet!\n",
    "\n",
    "01 step # Open & closing Windows\n",
    "\n",
    "02 step # Create a New Black Image\n",
    "\n",
    "03 step # Basic Drawing: Lines, Rect & Circles\n",
    "\n",
    "04 step # Put Text on Image\n",
    "\n",
    "05 step # Saving an Image\n",
    "\n",
    "06 step # Run It All Together & Check out\n"
   ]
  },
  {
   "cell_type": "markdown",
   "id": "34cd8750",
   "metadata": {},
   "source": [
    "## 01 step # Open & closing Windows\n",
    "\n",
    "Let´s define a safe method of working with images on windows"
   ]
  },
  {
   "cell_type": "code",
   "execution_count": 1,
   "id": "1407722a",
   "metadata": {},
   "outputs": [],
   "source": [
    "import cv2\n",
    "import numpy as np\n",
    "\n",
    "import matplotlib.pyplot as plt\n",
    "%matplotlib inline"
   ]
  },
  {
   "cell_type": "code",
   "execution_count": 2,
   "id": "f21d2683",
   "metadata": {},
   "outputs": [],
   "source": [
    "def openImg(title, img):\n",
    "    img = cv2.imread(img)\n",
    "    while True:\n",
    "        cv2.imshow(title, img)\n",
    "        #if we waited at least 1 sec AND we´ve pressed the ESC\n",
    "        if cv2.waitKey(1) & 0xFF == 27:\n",
    "            break\n",
    "    cv2.destroyAllWindows()"
   ]
  },
  {
   "cell_type": "code",
   "execution_count": 3,
   "id": "7c7310d8",
   "metadata": {},
   "outputs": [],
   "source": [
    "# please, hit ESC to close the external window\n",
    "openImg('PUPPY', 'DATA/00_puppy.jpg')"
   ]
  },
  {
   "cell_type": "markdown",
   "id": "7ad18063",
   "metadata": {},
   "source": [
    "## 02 step # Create a New Black Image"
   ]
  },
  {
   "cell_type": "code",
   "execution_count": 4,
   "id": "8e6fb6f1",
   "metadata": {},
   "outputs": [],
   "source": [
    "blank_img = np.zeros(shape=(512,512,3), dtype=np.int16)"
   ]
  },
  {
   "cell_type": "code",
   "execution_count": 5,
   "id": "ad9fe733",
   "metadata": {},
   "outputs": [
    {
     "data": {
      "text/plain": [
       "(512, 512, 3)"
      ]
     },
     "execution_count": 5,
     "metadata": {},
     "output_type": "execute_result"
    }
   ],
   "source": [
    "blank_img.shape"
   ]
  },
  {
   "cell_type": "code",
   "execution_count": 6,
   "id": "e2f60a2c",
   "metadata": {},
   "outputs": [
    {
     "data": {
      "text/plain": [
       "<matplotlib.image.AxesImage at 0x1e6689c7d30>"
      ]
     },
     "execution_count": 6,
     "metadata": {},
     "output_type": "execute_result"
    },
    {
     "data": {
      "image/png": "[encoded data removed]",
      "text/plain": [
       "<Figure size 432x288 with 1 Axes>"
      ]
     },
     "metadata": {
      "needs_background": "light"
     },
     "output_type": "display_data"
    }
   ],
   "source": [
    "plt.imshow(blank_img)"
   ]
  },
  {
   "cell_type": "markdown",
   "id": "82f3ed2b",
   "metadata": {},
   "source": [
    "## 03 step # Basic Drawing: Lines, Rect & Circles"
   ]
  },
  {
   "cell_type": "code",
   "execution_count": 7,
   "id": "e3eb0dc8",
   "metadata": {},
   "outputs": [],
   "source": [
    "cv2.rectangle(blank_img, pt1=(100,100), pt2=(400,400), color=(0,255,0), thickness=10);"
   ]
  },
  {
   "cell_type": "code",
   "execution_count": 8,
   "id": "89c3d0ce",
   "metadata": {},
   "outputs": [
    {
     "data": {
      "text/plain": [
       "<matplotlib.image.AxesImage at 0x1e668a58a58>"
      ]
     },
     "execution_count": 8,
     "metadata": {},
     "output_type": "execute_result"
    },
    {
     "data": {
      "image/png": "[encoded data removed]",
      "text/plain": [
       "<Figure size 432x288 with 1 Axes>"
      ]
     },
     "metadata": {
      "needs_background": "light"
     },
     "output_type": "display_data"
    }
   ],
   "source": [
    "plt.imshow(blank_img)"
   ]
  },
  {
   "cell_type": "code",
   "execution_count": 9,
   "id": "7fe2cbb7",
   "metadata": {},
   "outputs": [],
   "source": [
    "cv2.circle(blank_img, center=(250,250), radius=220, color=(255,0,0), thickness=8);"
   ]
  },
  {
   "cell_type": "code",
   "execution_count": 10,
   "id": "2a62121b",
   "metadata": {},
   "outputs": [
    {
     "data": {
      "text/plain": [
       "<matplotlib.image.AxesImage at 0x1e668bbb908>"
      ]
     },
     "execution_count": 10,
     "metadata": {},
     "output_type": "execute_result"
    },
    {
     "data": {
      "image/png": "[encoded data removed]",
      "text/plain": [
       "<Figure size 432x288 with 1 Axes>"
      ]
     },
     "metadata": {
      "needs_background": "light"
     },
     "output_type": "display_data"
    }
   ],
   "source": [
    "plt.imshow(blank_img)"
   ]
  },
  {
   "cell_type": "code",
   "execution_count": 11,
   "id": "987d74a3",
   "metadata": {},
   "outputs": [],
   "source": [
    "cv2.line(blank_img, pt1=(200,100), pt2=(200, 400), color=(0,0,255), thickness=10);"
   ]
  },
  {
   "cell_type": "code",
   "execution_count": 12,
   "id": "a533cef9",
   "metadata": {},
   "outputs": [],
   "source": [
    "cv2.line(blank_img, pt1=(100,250), pt2=(200, 400), color=(0,0,255), thickness=10);"
   ]
  },
  {
   "cell_type": "code",
   "execution_count": 13,
   "id": "f117173d",
   "metadata": {},
   "outputs": [],
   "source": [
    "cv2.line(blank_img, pt1=(300,100), pt2=(400, 200), color=(0,0,255), thickness=10);"
   ]
  },
  {
   "cell_type": "code",
   "execution_count": 14,
   "id": "b7ee3a08",
   "metadata": {},
   "outputs": [],
   "source": [
    "cv2.line(blank_img, pt1=(400,200), pt2=(300, 250), color=(0,0,255), thickness=10);"
   ]
  },
  {
   "cell_type": "code",
   "execution_count": 15,
   "id": "113c9862",
   "metadata": {},
   "outputs": [],
   "source": [
    "cv2.line(blank_img, pt1=(300,250), pt2=(400, 350), color=(0,0,255), thickness=10);"
   ]
  },
  {
   "cell_type": "code",
   "execution_count": 16,
   "id": "58799369",
   "metadata": {},
   "outputs": [],
   "source": [
    "cv2.line(blank_img, pt1=(400,350), pt2=(300, 400), color=(0,0,255), thickness=10);"
   ]
  },
  {
   "cell_type": "code",
   "execution_count": 17,
   "id": "d8e7fee1",
   "metadata": {},
   "outputs": [
    {
     "data": {
      "text/plain": [
       "<matplotlib.image.AxesImage at 0x1e668d48c18>"
      ]
     },
     "execution_count": 17,
     "metadata": {},
     "output_type": "execute_result"
    },
    {
     "data": {
      "image/png": "[encoded data removed]",
      "text/plain": [
       "<Figure size 432x288 with 1 Axes>"
      ]
     },
     "metadata": {
      "needs_background": "light"
     },
     "output_type": "display_data"
    }
   ],
   "source": [
    "plt.imshow(blank_img)"
   ]
  },
  {
   "cell_type": "markdown",
   "id": "b5424a37",
   "metadata": {},
   "source": [
    "## 04 step # Put Text on Image"
   ]
  },
  {
   "cell_type": "code",
   "execution_count": 18,
   "id": "7368c5a0",
   "metadata": {},
   "outputs": [],
   "source": [
    "font = cv2.FONT_HERSHEY_SIMPLEX\n",
    "cv2.putText(blank_img, text='J3',org=(400,500), fontFace=font, fontScale=3, color=(255,255,255), thickness=5, lineType=cv2.LINE_AA );"
   ]
  },
  {
   "cell_type": "code",
   "execution_count": 19,
   "id": "fce363db",
   "metadata": {},
   "outputs": [
    {
     "data": {
      "text/plain": [
       "<matplotlib.image.AxesImage at 0x1e668da8198>"
      ]
     },
     "execution_count": 19,
     "metadata": {},
     "output_type": "execute_result"
    },
    {
     "data": {
      "image/png": "[encoded data removed]",
      "text/plain": [
       "<Figure size 432x288 with 1 Axes>"
      ]
     },
     "metadata": {
      "needs_background": "light"
     },
     "output_type": "display_data"
    }
   ],
   "source": [
    "plt.imshow(blank_img)"
   ]
  },
  {
   "cell_type": "markdown",
   "id": "a456f53d",
   "metadata": {},
   "source": [
    "## 05 step # Saving an Image"
   ]
  },
  {
   "cell_type": "code",
   "execution_count": 20,
   "id": "0df567f9",
   "metadata": {},
   "outputs": [
    {
     "data": {
      "text/plain": [
       "True"
      ]
     },
     "execution_count": 20,
     "metadata": {},
     "output_type": "execute_result"
    }
   ],
   "source": [
    "# Filename\n",
    "filename = 'DATA/savedImage.jpg'\n",
    "  \n",
    "# Using cv2.imwrite() method\n",
    "# Saving the image\n",
    "cv2.imwrite(filename, blank_img)"
   ]
  },
  {
   "cell_type": "markdown",
   "id": "5a7fd6d4",
   "metadata": {},
   "source": [
    "## 06 step # Run It All Together & Check out "
   ]
  },
  {
   "cell_type": "code",
   "execution_count": 21,
   "id": "02ff2d1e",
   "metadata": {},
   "outputs": [],
   "source": [
    "# please, hit ESC to close the external window\n",
    "openImg('J3', 'DATA/savedImage.jpg')"
   ]
  },
  {
   "cell_type": "code",
   "execution_count": 22,
   "id": "54b2921f",
   "metadata": {},
   "outputs": [
    {
     "name": "stdout",
     "output_type": "stream",
     "text": [
      "That´s it! Thank you once again!\n",
      "I hope will be helpful.\n"
     ]
    }
   ],
   "source": [
    "print(\"That´s it! Thank you once again!\\nI hope will be helpful.\")"
   ]
  }
 ],
 "metadata": {
  "kernelspec": {
   "display_name": "Python 3 (ipykernel)",
   "language": "python",
   "name": "python3"
  },
  "language_info": {
   "codemirror_mode": {
    "name": "ipython",
    "version": 3
   },
   "file_extension": ".py",
   "mimetype": "text/x-python",
   "name": "python",
   "nbconvert_exporter": "python",
   "pygments_lexer": "ipython3",
   "version": "3.9.7"
  }
 },
 "nbformat": 4,
 "nbformat_minor": 5
}
